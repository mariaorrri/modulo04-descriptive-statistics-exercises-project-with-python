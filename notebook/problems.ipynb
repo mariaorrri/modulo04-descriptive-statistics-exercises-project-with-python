{
    "cells": [
        {
            "cell_type": "markdown",
            "id": "ac622319",
            "metadata": {},
            "source": [
                "# Descriptive statistics problems"
            ]
        },
        {
            "cell_type": "markdown",
            "id": "5e0ab0d5",
            "metadata": {},
            "source": [
                "### Exercise 1\n",
                "\n",
                "We will use NumPy to obtain information to describe statistically.\n",
                "\n",
                "- Generate an array of 100 elements following a normal distribution.\n",
                "- Generate an array of 100 elements following a chi-square distribution with 3 degrees of freedom.\n",
                "- Calculate the main metrics and statistical measures that best describe the two vectors."
            ]
        },
        {
            "cell_type": "code",
            "execution_count": 67,
            "id": "34720ab6",
            "metadata": {},
            "outputs": [],
            "source": [
                "# Librerías\n",
                "import numpy as np\n",
                "import pandas as pd\n",
                "import matplotlib.pyplot as plt\n",
                "import statistics as stats\n",
                "from scipy.stats import norm, kurtosis, skew"
            ]
        },
        {
            "cell_type": "markdown",
            "id": "d73d81ee",
            "metadata": {},
            "source": [
                "# Normal distribution"
            ]
        },
        {
            "cell_type": "code",
            "execution_count": 68,
            "id": "f5d68a99",
            "metadata": {},
            "outputs": [],
            "source": [
                "# Array of 100 elements following normak distribution\n",
                "normal = np.random.normal(50, size = 100) # Distribución normal de 100 números aleatorios en torno al 50"
            ]
        },
        {
            "cell_type": "code",
            "execution_count": 69,
            "id": "972e5352",
            "metadata": {},
            "outputs": [
                {
                    "name": "stdout",
                    "output_type": "stream",
                    "text": [
                        "10\n"
                    ]
                },
                {
                    "data": {
                        "image/png": "[encoded data removed]",
                        "text/plain": [
                            "<Figure size 640x480 with 1 Axes>"
                        ]
                    },
                    "metadata": {},
                    "output_type": "display_data"
                }
            ],
            "source": [
                "# La graficamos en un histograma para verla\n",
                "# Para decidir numero de bins \n",
                "cajas = int(round(len(normal)**0.5 , 0)) # Regla ^ elevado 1/2\n",
                "# cajas = int(round(np.log2(len(normal)) + 1, 0)) # Regla sturges\n",
                "print(cajas)\n",
                "plt.hist(normal , bins = cajas , alpha = 0.6, color = 'green', edgecolor = 'black')\n",
                "plt.show()"
            ]
        },
        {
            "cell_type": "markdown",
            "id": "b42700f4",
            "metadata": {},
            "source": [
                "Con esto compruebo que se siga la distribución normal."
            ]
        },
        {
            "cell_type": "code",
            "execution_count": 70,
            "id": "f5bf1643",
            "metadata": {},
            "outputs": [
                {
                    "data": {
                        "text/html": [
                            "<div>\n",
                            "<style scoped>\n",
                            "    .dataframe tbody tr th:only-of-type {\n",
                            "        vertical-align: middle;\n",
                            "    }\n",
                            "\n",
                            "    .dataframe tbody tr th {\n",
                            "        vertical-align: top;\n",
                            "    }\n",
                            "\n",
                            "    .dataframe thead th {\n",
                            "        text-align: right;\n",
                            "    }\n",
                            "</style>\n",
                            "<table border=\"1\" class=\"dataframe\">\n",
                            "  <thead>\n",
                            "    <tr style=\"text-align: right;\">\n",
                            "      <th></th>\n",
                            "      <th>0</th>\n",
                            "    </tr>\n",
                            "  </thead>\n",
                            "  <tbody>\n",
                            "    <tr>\n",
                            "      <th>count</th>\n",
                            "      <td>100.000000</td>\n",
                            "    </tr>\n",
                            "    <tr>\n",
                            "      <th>mean</th>\n",
                            "      <td>50.147778</td>\n",
                            "    </tr>\n",
                            "    <tr>\n",
                            "      <th>std</th>\n",
                            "      <td>1.142009</td>\n",
                            "    </tr>\n",
                            "    <tr>\n",
                            "      <th>min</th>\n",
                            "      <td>47.022389</td>\n",
                            "    </tr>\n",
                            "    <tr>\n",
                            "      <th>25%</th>\n",
                            "      <td>49.333599</td>\n",
                            "    </tr>\n",
                            "    <tr>\n",
                            "      <th>50%</th>\n",
                            "      <td>50.108470</td>\n",
                            "    </tr>\n",
                            "    <tr>\n",
                            "      <th>75%</th>\n",
                            "      <td>50.929266</td>\n",
                            "    </tr>\n",
                            "    <tr>\n",
                            "      <th>max</th>\n",
                            "      <td>53.843744</td>\n",
                            "    </tr>\n",
                            "  </tbody>\n",
                            "</table>\n",
                            "</div>"
                        ],
                        "text/plain": [
                            "                0\n",
                            "count  100.000000\n",
                            "mean    50.147778\n",
                            "std      1.142009\n",
                            "min     47.022389\n",
                            "25%     49.333599\n",
                            "50%     50.108470\n",
                            "75%     50.929266\n",
                            "max     53.843744"
                        ]
                    },
                    "execution_count": 70,
                    "metadata": {},
                    "output_type": "execute_result"
                }
            ],
            "source": [
                "# normal = np.array(normal)\n",
                "normal_df = pd.DataFrame(normal)\n",
                "\n",
                "# Main metrics and statistical measures\n",
                "normal_df.describe() # Nos da la media, desviación (std), minimo, maximo y percentiles 25, 50 y 75\n",
                "\n"
            ]
        },
        {
            "cell_type": "code",
            "execution_count": 71,
            "id": "8baf7336",
            "metadata": {},
            "outputs": [
                {
                    "name": "stdout",
                    "output_type": "stream",
                    "text": [
                        "[0.27926646]\n"
                    ]
                }
            ],
            "source": [
                "# Vamos a ver la kurtosis para comprobar que sigue la distribución normal\n",
                "kurt = kurtosis(normal_df)\n",
                "print(kurt)"
            ]
        },
        {
            "cell_type": "markdown",
            "id": "3f4041c4",
            "metadata": {},
            "source": [
                "Se obtiene un calor de -0,56 aproximadamente lo cual nos indica que la distribución es muy ligeramente platicúrtica"
            ]
        },
        {
            "cell_type": "code",
            "execution_count": 72,
            "id": "2a4bd6c2",
            "metadata": {},
            "outputs": [
                {
                    "name": "stdout",
                    "output_type": "stream",
                    "text": [
                        "[0.22797108]\n"
                    ]
                }
            ],
            "source": [
                "# Sesgo, Asimetría\n",
                "skewness = skew(normal_df)\n",
                "print(skewness)"
            ]
        },
        {
            "cell_type": "markdown",
            "id": "dcec8e13",
            "metadata": {},
            "source": [
                "Con el dato obtenido, 0.04, podemos decir que es simétrica"
            ]
        },
        {
            "cell_type": "markdown",
            "id": "a9517dcd",
            "metadata": {},
            "source": [
                "# chi-square distribution"
            ]
        },
        {
            "cell_type": "code",
            "execution_count": 73,
            "id": "3089db29",
            "metadata": {},
            "outputs": [],
            "source": [
                "# aRRAY OF 100 ELEMENTS FOLLOWING CHI-SQUARE DISTRIBUTION\n",
                "chi = np.random.chisquare(3, size = 100) # Distribución chi-cuadrado de 100 números aleatorios con 3 grados de libertad"
            ]
        },
        {
            "cell_type": "code",
            "execution_count": 74,
            "id": "f203f9ed",
            "metadata": {},
            "outputs": [
                {
                    "name": "stdout",
                    "output_type": "stream",
                    "text": [
                        "10\n"
                    ]
                },
                {
                    "data": {
                        "image/png": "[encoded data removed]",
                        "text/plain": [
                            "<Figure size 640x480 with 1 Axes>"
                        ]
                    },
                    "metadata": {},
                    "output_type": "display_data"
                }
            ],
            "source": [
                "# La graficamos en un histograma para verla\n",
                "# Para decidir numero de bins \n",
                "cajas2 = int(round(len(chi)**0.5 , 0)) # Regla ^ elevado 1/2\n",
                "# cajas = int(round(np.log2(len(normal)) + 1, 0)) # Regla sturges\n",
                "print(cajas2)\n",
                "plt.hist(chi , bins = cajas2 , alpha = 0.6, color = 'lightblue', edgecolor = 'black')\n",
                "plt.show()"
            ]
        },
        {
            "cell_type": "code",
            "execution_count": 75,
            "id": "2a9b3a68",
            "metadata": {},
            "outputs": [
                {
                    "data": {
                        "text/html": [
                            "<div>\n",
                            "<style scoped>\n",
                            "    .dataframe tbody tr th:only-of-type {\n",
                            "        vertical-align: middle;\n",
                            "    }\n",
                            "\n",
                            "    .dataframe tbody tr th {\n",
                            "        vertical-align: top;\n",
                            "    }\n",
                            "\n",
                            "    .dataframe thead th {\n",
                            "        text-align: right;\n",
                            "    }\n",
                            "</style>\n",
                            "<table border=\"1\" class=\"dataframe\">\n",
                            "  <thead>\n",
                            "    <tr style=\"text-align: right;\">\n",
                            "      <th></th>\n",
                            "      <th>0</th>\n",
                            "    </tr>\n",
                            "  </thead>\n",
                            "  <tbody>\n",
                            "    <tr>\n",
                            "      <th>count</th>\n",
                            "      <td>100.000000</td>\n",
                            "    </tr>\n",
                            "    <tr>\n",
                            "      <th>mean</th>\n",
                            "      <td>2.931836</td>\n",
                            "    </tr>\n",
                            "    <tr>\n",
                            "      <th>std</th>\n",
                            "      <td>2.483338</td>\n",
                            "    </tr>\n",
                            "    <tr>\n",
                            "      <th>min</th>\n",
                            "      <td>0.148519</td>\n",
                            "    </tr>\n",
                            "    <tr>\n",
                            "      <th>25%</th>\n",
                            "      <td>1.033441</td>\n",
                            "    </tr>\n",
                            "    <tr>\n",
                            "      <th>50%</th>\n",
                            "      <td>2.467776</td>\n",
                            "    </tr>\n",
                            "    <tr>\n",
                            "      <th>75%</th>\n",
                            "      <td>3.687538</td>\n",
                            "    </tr>\n",
                            "    <tr>\n",
                            "      <th>max</th>\n",
                            "      <td>12.233759</td>\n",
                            "    </tr>\n",
                            "  </tbody>\n",
                            "</table>\n",
                            "</div>"
                        ],
                        "text/plain": [
                            "                0\n",
                            "count  100.000000\n",
                            "mean     2.931836\n",
                            "std      2.483338\n",
                            "min      0.148519\n",
                            "25%      1.033441\n",
                            "50%      2.467776\n",
                            "75%      3.687538\n",
                            "max     12.233759"
                        ]
                    },
                    "execution_count": 75,
                    "metadata": {},
                    "output_type": "execute_result"
                }
            ],
            "source": [
                "# Main metrics and statistical measures\n",
                "chi_df = pd.DataFrame(chi)\n",
                "chi_df.describe() # Nos da la media, desviación (std), minimo, maximo y percentiles 25, 50 y 75"
            ]
        },
        {
            "cell_type": "code",
            "execution_count": 76,
            "id": "532b7610",
            "metadata": {},
            "outputs": [
                {
                    "name": "stdout",
                    "output_type": "stream",
                    "text": [
                        "[2.18901639]\n"
                    ]
                }
            ],
            "source": [
                "# Curtosis\n",
                "kurt2 = kurtosis(chi_df)\n",
                "print(kurt2)"
            ]
        },
        {
            "cell_type": "markdown",
            "id": "35320f2a",
            "metadata": {},
            "source": [
                "Obtenemos curtosis positiva, esto nos indica que la distribución tiene colas más pesadas y un pico más alto, lo cual es típico de distribuciones chi-cuadrado."
            ]
        },
        {
            "cell_type": "code",
            "execution_count": 77,
            "id": "c691bf8a",
            "metadata": {},
            "outputs": [
                {
                    "name": "stdout",
                    "output_type": "stream",
                    "text": [
                        "[1.42022289]\n"
                    ]
                }
            ],
            "source": [
                "# Sesgo\n",
                "skewness2 = skew(chi_df)\n",
                "print(skewness2)"
            ]
        },
        {
            "cell_type": "markdown",
            "id": "e4670714",
            "metadata": {},
            "source": [
                "Se obtiene sesgo positivo, característica esperada de la distribución chi-cuadrado, que tiende a ser asimétrica con una cola más larga a la derecha."
            ]
        },
        {
            "cell_type": "markdown",
            "id": "46c70c3d",
            "metadata": {},
            "source": [
                "### Exercise 2\n",
                "\n",
                "Write a Python program to calculate the standard deviation of the following data:\n",
                "\n",
                "```py\n",
                "data = [4, 2, 5, 8, 6]\n",
                "```"
            ]
        },
        {
            "cell_type": "code",
            "execution_count": 88,
            "id": "d590308e",
            "metadata": {},
            "outputs": [
                {
                    "name": "stdout",
                    "output_type": "stream",
                    "text": [
                        "2.23606797749979\n"
                    ]
                }
            ],
            "source": [
                "import math\n",
                "data = [4, 2, 5, 8, 6]\n",
                "# std_dev = np.std(data)\n",
                "# print(std_dev)\n",
                "\n",
                "\n",
                "# Para calcular la desviación estandar tengo que calcular la media primero\n",
                "def media_p(data):\n",
                "    return sum(data)/len(data)\n",
                "\n",
                "\n",
                "# Ahora hago un programa que haga la desvación siguiendo la formula de la misma\n",
                "\n",
                "def dev(data):\n",
                "    media = media_p(data)\n",
                "    # media = avg_calc(data)\n",
                "    desviacion = 0.0\n",
                "\n",
                "    for i in data:\n",
                "        desviacion += (i- media) ** 2\n",
                "\n",
                "    desviacion = math.sqrt(desviacion / (len(data) - 1))\n",
                "\n",
                "    return desviacion\n",
                "    \n",
                "std_dev = dev(data)\n",
                "print(std_dev)"
            ]
        },
        {
            "cell_type": "markdown",
            "id": "8e0d12e4",
            "metadata": {},
            "source": [
                "La desviación estándar de 2 significa que, en promedio, los valores se desvían en 2 unidades de la media del conjunto de datos. Indica que los datos no están demasiado dispersos. Una desviación estándar de 2 es relativamente baja en comparación con el rango total de los datos (que es de 2 a 8).\n"
            ]
        }
    ],
    "metadata": {
        "interpreter": {
            "hash": "9248718ffe6ce6938b217e69dbcc175ea21f4c6b28a317e96c05334edae734bb"
        },
        "kernelspec": {
            "display_name": "Python 3.9.12 ('ML-BOOTCAMP')",
            "language": "python",
            "name": "python3"
        },
        "language_info": {
            "codemirror_mode": {
                "name": "ipython",
                "version": 3
            },
            "file_extension": ".py",
            "mimetype": "text/x-python",
            "name": "python",
            "nbconvert_exporter": "python",
            "pygments_lexer": "ipython3",
            "version": "3.12.4"
        }
    },
    "nbformat": 4,
    "nbformat_minor": 5
}
