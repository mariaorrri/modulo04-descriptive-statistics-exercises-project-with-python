{
    "cells": [
        {
            "cell_type": "markdown",
            "id": "ac622319",
            "metadata": {},
            "source": [
                "# Descriptive statistics problems"
            ]
        },
        {
            "cell_type": "markdown",
            "id": "5e0ab0d5",
            "metadata": {},
            "source": [
                "### Exercise 1\n",
                "\n",
                "We will use NumPy to obtain information to describe statistically.\n",
                "\n",
                "- Generate an array of 100 elements following a normal distribution.\n",
                "- Generate an array of 100 elements following a chi-square distribution with 3 degrees of freedom.\n",
                "- Calculate the main metrics and statistical measures that best describe the two vectors."
            ]
        },
        {
            "cell_type": "code",
            "execution_count": 48,
            "id": "34720ab6",
            "metadata": {},
            "outputs": [],
            "source": [
                "# Librerías\n",
                "import numpy as np\n",
                "import pandas as pd\n",
                "import matplotlib.pyplot as plt\n",
                "import seaborn as sns\n",
                "from scipy.stats import norm, kurtosis, skew\n",
                "import statistics as stats"
            ]
        },
        {
            "cell_type": "code",
            "execution_count": 49,
            "id": "f5d68a99",
            "metadata": {},
            "outputs": [],
            "source": [
                "# Array of 100 elements following normak distribution\n",
                "normal = np.random.normal(50, size = 100) # Distribución normal de 100 números aleatorios en torno al 50"
            ]
        },
        {
            "cell_type": "code",
            "execution_count": 50,
            "id": "972e5352",
            "metadata": {},
            "outputs": [
                {
                    "name": "stdout",
                    "output_type": "stream",
                    "text": [
                        "10\n"
                    ]
                },
                {
                    "data": {
                        "image/png": "[encoded data removed]",
                        "text/plain": [
                            "<Figure size 640x480 with 1 Axes>"
                        ]
                    },
                    "metadata": {},
                    "output_type": "display_data"
                }
            ],
            "source": [
                "# La graficamos en un histograma para verla\n",
                "# Para decidir numero de bins \n",
                "cajas = int(round(len(normal)**0.5 , 0)) # Regla ^ elevado 1/2\n",
                "# cajas = int(round(np.log2(len(normal)) + 1, 0)) # Regla sturges\n",
                "print(cajas)\n",
                "plt.hist(normal , bins = cajas , alpha = 0.6, color = 'green', edgecolor = 'black')\n",
                "plt.show()"
            ]
        },
        {
            "cell_type": "markdown",
            "id": "b42700f4",
            "metadata": {},
            "source": [
                "Con esto compruebo que se siga la distribución normal."
            ]
        },
        {
            "cell_type": "code",
            "execution_count": 53,
            "id": "f5bf1643",
            "metadata": {},
            "outputs": [
                {
                    "data": {
                        "text/html": [
                            "<div>\n",
                            "<style scoped>\n",
                            "    .dataframe tbody tr th:only-of-type {\n",
                            "        vertical-align: middle;\n",
                            "    }\n",
                            "\n",
                            "    .dataframe tbody tr th {\n",
                            "        vertical-align: top;\n",
                            "    }\n",
                            "\n",
                            "    .dataframe thead th {\n",
                            "        text-align: right;\n",
                            "    }\n",
                            "</style>\n",
                            "<table border=\"1\" class=\"dataframe\">\n",
                            "  <thead>\n",
                            "    <tr style=\"text-align: right;\">\n",
                            "      <th></th>\n",
                            "      <th>0</th>\n",
                            "    </tr>\n",
                            "  </thead>\n",
                            "  <tbody>\n",
                            "    <tr>\n",
                            "      <th>count</th>\n",
                            "      <td>100.000000</td>\n",
                            "    </tr>\n",
                            "    <tr>\n",
                            "      <th>mean</th>\n",
                            "      <td>50.084566</td>\n",
                            "    </tr>\n",
                            "    <tr>\n",
                            "      <th>std</th>\n",
                            "      <td>0.952063</td>\n",
                            "    </tr>\n",
                            "    <tr>\n",
                            "      <th>min</th>\n",
                            "      <td>47.997842</td>\n",
                            "    </tr>\n",
                            "    <tr>\n",
                            "      <th>25%</th>\n",
                            "      <td>49.353668</td>\n",
                            "    </tr>\n",
                            "    <tr>\n",
                            "      <th>50%</th>\n",
                            "      <td>50.171989</td>\n",
                            "    </tr>\n",
                            "    <tr>\n",
                            "      <th>75%</th>\n",
                            "      <td>50.832783</td>\n",
                            "    </tr>\n",
                            "    <tr>\n",
                            "      <th>max</th>\n",
                            "      <td>52.334980</td>\n",
                            "    </tr>\n",
                            "  </tbody>\n",
                            "</table>\n",
                            "</div>"
                        ],
                        "text/plain": [
                            "                0\n",
                            "count  100.000000\n",
                            "mean    50.084566\n",
                            "std      0.952063\n",
                            "min     47.997842\n",
                            "25%     49.353668\n",
                            "50%     50.171989\n",
                            "75%     50.832783\n",
                            "max     52.334980"
                        ]
                    },
                    "execution_count": 53,
                    "metadata": {},
                    "output_type": "execute_result"
                }
            ],
            "source": [
                "# normal = np.array(normal)\n",
                "normal_df = pd.DataFrame(normal)\n",
                "normal_df.describe() # Nos da la media, desviación (std), minimo, maximo y percentiles 25, 50 y 75\n",
                "# Vamos a ver la kurtosis para comprobar que sigue la distribución normal\n"
            ]
        },
        {
            "cell_type": "code",
            "execution_count": null,
            "id": "3089db29",
            "metadata": {},
            "outputs": [],
            "source": [
                "# aRRAY OF 100 ELEMENTS FOLLOWING CHI-SQUARE DISTRIBUTION\n",
                "chi = np.random.chisquare(3, size = 100) # Distribución chi-cuadrado de 100 números aleatorios con 3 grados de libertad"
            ]
        },
        {
            "cell_type": "code",
            "execution_count": null,
            "id": "f203f9ed",
            "metadata": {},
            "outputs": [
                {
                    "name": "stdout",
                    "output_type": "stream",
                    "text": [
                        "10\n"
                    ]
                },
                {
                    "data": {
                        "image/png": "[encoded data removed]",
                        "text/plain": [
                            "<Figure size 640x480 with 1 Axes>"
                        ]
                    },
                    "metadata": {},
                    "output_type": "display_data"
                }
            ],
            "source": [
                "# La graficamos en un histograma para verla\n",
                "# Para decidir numero de bins \n",
                "cajas2 = int(round(len(chi)**0.5 , 0)) # Regla ^ elevado 1/2\n",
                "# cajas = int(round(np.log2(len(normal)) + 1, 0)) # Regla sturges\n",
                "print(cajas2)\n",
                "plt.hist(chi , bins = cajas2 , alpha = 0.6, color = 'lightblue', edgecolor = 'black')\n",
                "plt.show()"
            ]
        },
        {
            "cell_type": "markdown",
            "id": "46c70c3d",
            "metadata": {},
            "source": [
                "### Exercise 2\n",
                "\n",
                "Write a Python program to calculate the standard deviation of the following data:\n",
                "\n",
                "```py\n",
                "data = [4, 2, 5, 8, 6]\n",
                "```"
            ]
        },
        {
            "cell_type": "code",
            "execution_count": null,
            "id": "d590308e",
            "metadata": {},
            "outputs": [],
            "source": [
                "# TODO"
            ]
        }
    ],
    "metadata": {
        "interpreter": {
            "hash": "9248718ffe6ce6938b217e69dbcc175ea21f4c6b28a317e96c05334edae734bb"
        },
        "kernelspec": {
            "display_name": "Python 3.9.12 ('ML-BOOTCAMP')",
            "language": "python",
            "name": "python3"
        },
        "language_info": {
            "codemirror_mode": {
                "name": "ipython",
                "version": 3
            },
            "file_extension": ".py",
            "mimetype": "text/x-python",
            "name": "python",
            "nbconvert_exporter": "python",
            "pygments_lexer": "ipython3",
            "version": "3.12.4"
        }
    },
    "nbformat": 4,
    "nbformat_minor": 5
}
