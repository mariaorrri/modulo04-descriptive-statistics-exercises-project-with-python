{
    "cells": [
        {
            "cell_type": "markdown",
            "id": "ac622319",
            "metadata": {},
            "source": [
                "# Descriptive statistics problems"
            ]
        },
        {
            "cell_type": "markdown",
            "id": "5e0ab0d5",
            "metadata": {},
            "source": [
                "### Exercise 1\n",
                "\n",
                "We will use NumPy to obtain information to describe statistically.\n",
                "\n",
                "- Generate an array of 100 elements following a normal distribution.\n",
                "- Generate an array of 100 elements following a chi-square distribution with 3 degrees of freedom.\n",
                "- Calculate the main metrics and statistical measures that best describe the two vectors."
            ]
        },
        {
            "cell_type": "code",
            "execution_count": 12,
            "id": "34720ab6",
            "metadata": {},
            "outputs": [],
            "source": [
                "# Librerías\n",
                "import numpy as np\n",
                "import matplotlib.pyplot as plt"
            ]
        },
        {
            "cell_type": "code",
            "execution_count": 25,
            "id": "f5d68a99",
            "metadata": {},
            "outputs": [],
            "source": [
                "# Array of 100 elements following normak distribution\n",
                "normal = np.random.normal(50, size = 100) # Distribución normal de 100 números aleatorios en torno al 50"
            ]
        },
        {
            "cell_type": "code",
            "execution_count": 28,
            "id": "972e5352",
            "metadata": {},
            "outputs": [
                {
                    "name": "stdout",
                    "output_type": "stream",
                    "text": [
                        "8\n"
                    ]
                },
                {
                    "data": {
                        "image/png": "[encoded data removed]",
                        "text/plain": [
                            "<Figure size 640x480 with 1 Axes>"
                        ]
                    },
                    "metadata": {},
                    "output_type": "display_data"
                }
            ],
            "source": [
                "# La graficamos en un histograma para verla\n",
                "# Para decidir numero de bins \n",
                "cajas = int(round(len(normal)**0.5 , 0)) # Regla ^ elevado 1/2\n",
                "# cajas = int(round(np.log2(len(normal)) + 1, 0)) # Regla sturges\n",
                "print(cajas)\n",
                "plt.hist(normal , bins = cajas , alpha = 0.6, color = 'green', edgecolor = 'black')\n",
                "plt.show()"
            ]
        },
        {
            "cell_type": "markdown",
            "id": "b42700f4",
            "metadata": {},
            "source": [
                "Con esto compruebo que se siga la distribución normal."
            ]
        },
        {
            "cell_type": "markdown",
            "id": "46c70c3d",
            "metadata": {},
            "source": [
                "### Exercise 2\n",
                "\n",
                "Write a Python program to calculate the standard deviation of the following data:\n",
                "\n",
                "```py\n",
                "data = [4, 2, 5, 8, 6]\n",
                "```"
            ]
        },
        {
            "cell_type": "code",
            "execution_count": 2,
            "id": "d590308e",
            "metadata": {},
            "outputs": [],
            "source": [
                "# TODO"
            ]
        }
    ],
    "metadata": {
        "interpreter": {
            "hash": "9248718ffe6ce6938b217e69dbcc175ea21f4c6b28a317e96c05334edae734bb"
        },
        "kernelspec": {
            "display_name": "Python 3.9.12 ('ML-BOOTCAMP')",
            "language": "python",
            "name": "python3"
        },
        "language_info": {
            "codemirror_mode": {
                "name": "ipython",
                "version": 3
            },
            "file_extension": ".py",
            "mimetype": "text/x-python",
            "name": "python",
            "nbconvert_exporter": "python",
            "pygments_lexer": "ipython3",
            "version": "3.12.4"
        }
    },
    "nbformat": 4,
    "nbformat_minor": 5
}
